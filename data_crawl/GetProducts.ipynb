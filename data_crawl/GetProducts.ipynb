{
 "cells": [
  {
   "cell_type": "markdown",
   "metadata": {},
   "source": [
    "# Get Product Information\n",
    "> Get information from a website by using <b><u>Selenum</u></b> and <b><u>BeautifulSoup</u></b>.\n",
    "\n",
    "\n",
    "[Back to <b>contents</b>](../README.md)"
   ]
  },
  {
   "cell_type": "code",
   "execution_count": 23,
   "metadata": {},
   "outputs": [],
   "source": [
    "from io import BytesIO\n",
    "import re\n",
    "from urllib.request import urlopen\n",
    "from selenium import webdriver\n",
    "from bs4 import BeautifulSoup\n",
    "import time\n",
    "from colorthief import ColorThief\n",
    "import number as MyNum #number.py\n",
    "import csv\n"
   ]
  },
  {
   "cell_type": "markdown",
   "metadata": {},
   "source": [
    "**KREAM** (https://kream.co.kr/)\n",
    "* It is the largest Korean shoe resell website.\n",
    "* You can get many shoe <b><u>images</u></b> and <b><u>price</u></b> information. \n",
    "<br>\n",
    "<p>ScreenShot</p>\n",
    "\n",
    "---------\n",
    "![KreamWebImg](../img/kreamWeb.png)"
   ]
  },
  {
   "cell_type": "code",
   "execution_count": 24,
   "metadata": {},
   "outputs": [],
   "source": [
    "url = 'https://kream.co.kr/search?category_id=34&sort=popular&per_page=40'"
   ]
  },
  {
   "cell_type": "markdown",
   "metadata": {},
   "source": [
    "Product Information structure in KREAM (HTML)\n",
    "\n",
    "![productHtml](../img/productHtml.png)\n"
   ]
  },
  {
   "cell_type": "markdown",
   "metadata": {},
   "source": [
    "**<mark>'get' functions created based on this</mark>**\n",
    "* getLink : Get links to shoe information.\n",
    "* getImage : Get the image of the shoe to get the colors.\n",
    "* getColors : Get the colors of the shoe by using <b><u>[colortheif](https://lokeshdhakar.com/projects/color-thief/)</u></b> module. \n",
    "* getName : Get name information\n",
    "* getBrand : Get Brand information\n",
    "* getPrice : Get Price information. If price is 0 continue to next shoe.\n",
    "* getWish : Get Wish from text by using getNumber function (number.py)\n",
    "* getReview : Get review same as getWish."
   ]
  },
  {
   "cell_type": "code",
   "execution_count": 25,
   "metadata": {},
   "outputs": [],
   "source": [
    "def getLink(a):\n",
    "  return 'https://kream.co.kr' + a.get('href') + \" \"\n",
    "\n",
    "def getImage(a):\n",
    "  try:\n",
    "    picture = a.find(\"picture\", {\"class\" : \"picture product_img\"})\n",
    "    source = picture.find(\"source\", {\"type\" : \"image/webp\"})\n",
    "    imgSrc = source.get('srcset') + \" \"\n",
    "  except:\n",
    "    imgSrc = 'NULL'\n",
    "  return imgSrc\n",
    "\n",
    "def getColors(a):\n",
    "  try:\n",
    "    imgSrc = getImage(a)\n",
    "    fd = urlopen(imgSrc)\n",
    "    f = BytesIO(fd.read())\n",
    "    color_thief = ColorThief(f)\n",
    "    palette = color_thief.get_palette(color_count=10, quality=1)\n",
    "    colors = []\n",
    "    for col in palette:\n",
    "      if col[3] < 8: continue\n",
    "      colors.append(col)\n",
    "    colors = sorted(colors, key = lambda x : -x[3])\n",
    "  except:\n",
    "    print(f'getColor Exception\\n{imgSrc}')\n",
    "    colors = [(-1,-1,-1,-1)]\n",
    "  return colors\n",
    "\n",
    "def getName(a):\n",
    "  EngName = a.find(\"p\", {\"class\",\"name\"}).getText()\n",
    "  return EngName\n",
    "\n",
    "def getBrand(a):\n",
    "  return a.find(\"p\", [\"class\", \"brand\"]).getText()\n",
    "  \n",
    "def getPrice(a):\n",
    "  priceStr = a.find(\"div\", [\"class\", \"amount\"]).getText()\n",
    "  numbers = re.sub(r'[^0-9]', '', priceStr)\n",
    "  price = 0\n",
    "  if len(numbers): price = int(numbers)\n",
    "  return price\n",
    "  \n",
    "def getWish(I):\n",
    "  figure = I.find(\"span\", [\"class\", \"wish_figure\"])\n",
    "  text = figure.find(\"span\", [\"class\", \"text\"]).getText()\n",
    "  return MyNum.getNumber(text)\n",
    "\n",
    "def getReview(I): \n",
    "  figure = I.find(\"span\",[\"class\",\"review_figure\"])\n",
    "  text = figure.find(\"span\", [\"class\", \"text\"]).getText()\n",
    "  return MyNum.getNumber(text)"
   ]
  },
  {
   "cell_type": "markdown",
   "metadata": {},
   "source": [
    "<p style = \"color : LightGreen\">The getColors function sorts the colors in the order of the highest ratio.</p>\n",
    "> To get the ratio of colors, you need to modify <u>colortheif.py.</u>\n",
    "\n",
    "-- referece : https://github.com/fengsp/color-thief-py/issues/1\n",
    "```python\n",
    "def palette(self):\n",
    "    return self.vboxes.map(lambda x: x['color'])\n",
    "```\n",
    "to\n",
    "```python\n",
    "def palette(self):\n",
    "        total = sum(self.vboxes.map(lambda x: x['vbox'].count))\n",
    "        return self.vboxes.map(lambda x: x['color'] + (int(x['vbox'].count / float(total) * 100),))\n",
    "```\n"
   ]
  },
  {
   "cell_type": "markdown",
   "metadata": {},
   "source": [
    "> Put each item into a list.\n",
    "1. We need a webdriver. [(chromedriver.exe)](https://chromedriver.chromium.org/downloads)\n",
    "2. Kream is a dynamic web page, so scrolling is required. (<b>max_scroll_num</b> = 100)\n",
    "3. To confirm that scrolling is in progress, print <b>curScroll</b> every 10.\n",
    "4. When the scroll is finished, append <b>items</b>."
   ]
  },
  {
   "cell_type": "code",
   "execution_count": 26,
   "metadata": {},
   "outputs": [
    {
     "name": "stdout",
     "output_type": "stream",
     "text": [
      "Current Scroll :10\n",
      "Current Scroll :20\n",
      "Current Scroll :30\n",
      "Current Scroll :40\n",
      "Current Scroll :50\n",
      "Current Scroll :60\n",
      "Current Scroll :70\n",
      "Current Scroll :80\n",
      "Current Scroll :90\n",
      "Current Scroll :100\n"
     ]
    }
   ],
   "source": [
    "\n",
    "driver = webdriver.Chrome('chromedriver')\n",
    "driver.maximize_window()\n",
    "driver.get(url)\n",
    "max_scroll_num = 100\n",
    "curScroll = 1;\n",
    "for _ in range(max_scroll_num):\n",
    "  driver.execute_script(\"window.scrollTo(0,document.body.scrollHeight)\")\n",
    "  if curScroll % 10 == 0 :\n",
    "    print(f'Current Scroll :{curScroll}')\n",
    "  curScroll += 1\n",
    "  time.sleep(2)\n",
    "\n",
    "time.sleep(1)\n",
    "html = driver.page_source\n",
    "bsObj = BeautifulSoup(html, 'html.parser')\n",
    "lis = bsObj.find(\"div\",{\"class\" : \"search_result_list\"})\n",
    "items = lis.findAll(\"div\", {\"class\":\"search_result_item\"})"
   ]
  },
  {
   "cell_type": "markdown",
   "metadata": {},
   "source": [
    "- Create <b>shoes.csv</b> file in data folder and put shoe information. \n",
    "- Only name, brand, Colors, and link information are used here."
   ]
  },
  {
   "cell_type": "code",
   "execution_count": 27,
   "metadata": {},
   "outputs": [],
   "source": [
    "csvFile = open(\"../data/shoes.csv\", 'w',encoding='utf-8', newline='')\n",
    "writer = csv.writer(csvFile)\n",
    "writer.writerow(('Name', 'Brand', 'Colors', 'Link', 'wish', 'review'))\n",
    "itemCnt = 0\n",
    "for item in items:\n",
    "  if itemCnt == 1000 : break\n",
    "  a = item.find(\"a\", {\"class\" : \"item_inner\"})\n",
    "  I = item.find(\"div\", {\"class\" : \"interest_figure\"})\n",
    "  price = getPrice(a)\n",
    "  if price == 0 : continue\n",
    "  itemCnt += 1\n",
    "  wish = getWish(I)\n",
    "  review = getReview(I)\n",
    "  link = getLink(a)\n",
    "  Colors = getColors(a)\n",
    "  name = getName(a)\n",
    "  brand = getBrand(a)\n",
    "  writer.writerow((name, brand, Colors, link, wish, review))\n",
    "csvFile.close()"
   ]
  },
  {
   "cell_type": "markdown",
   "metadata": {},
   "source": [
    "screenshot of shoes.csv (1000 of shoe data)\n",
    "<img src =\"../img/shoescsv.png\" width =\"400\">\n",
    "\n",
    "[Back to <b>contents</b>](../README.md)"
   ]
  }
 ],
 "metadata": {
  "kernelspec": {
   "display_name": "Python 3.10.7 ('venv': venv)",
   "language": "python",
   "name": "python3"
  },
  "language_info": {
   "codemirror_mode": {
    "name": "ipython",
    "version": 3
   },
   "file_extension": ".py",
   "mimetype": "text/x-python",
   "name": "python",
   "nbconvert_exporter": "python",
   "pygments_lexer": "ipython3",
   "version": "3.10.7"
  },
  "orig_nbformat": 4,
  "vscode": {
   "interpreter": {
    "hash": "2318e5b608ecf5bd821c8af02f6b1d2a72cbef9a25c6a650ca096a07e214dbe8"
   }
  }
 },
 "nbformat": 4,
 "nbformat_minor": 2
}
