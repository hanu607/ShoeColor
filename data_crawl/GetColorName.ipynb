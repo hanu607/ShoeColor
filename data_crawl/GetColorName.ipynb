{
 "cells": [
  {
   "cell_type": "markdown",
   "metadata": {},
   "source": [
    "# Get Closest Color Name\n",
    "> Get Closest Color name by using **[color-name-finder](https://colors.artyclick.com/color-name-finder)** from ArtyClick Colors\n",
    "\n",
    "[Back to <b>ColorClustering</b>](../color/ColorClustering.ipynb)"
   ]
  },
  {
   "cell_type": "code",
   "execution_count": 4,
   "metadata": {},
   "outputs": [],
   "source": [
    "from selenium import webdriver\n",
    "from selenium.webdriver.common.by import By\n",
    "from selenium.webdriver.common.keys import Keys\n",
    "import time\n",
    "import csv"
   ]
  },
  {
   "cell_type": "markdown",
   "metadata": {},
   "source": [
    "**ARTYCLICK - Color Name Finder** (https://colors.artyclick.com/color-name-finder/)\n",
    "* ArtyClick Color Dictionary provide over **1,700 most common color names**.\n",
    "* We can get closest color with a **similarity of 95%**\n",
    "<br>\n",
    "<p>ScreenShot</p>\n",
    "\n",
    "---------\n",
    "![KreamWebImg](../img/color_name_finder.png)"
   ]
  },
  {
   "cell_type": "code",
   "execution_count": 5,
   "metadata": {},
   "outputs": [],
   "source": [
    "url = 'https://colors.artyclick.com/color-name-finder'\n",
    "\n",
    "driver = webdriver.Chrome('chromedriver')\n",
    "driver.maximize_window()\n",
    "driver.get(url)\n",
    "search_box = driver.find_element(By.CLASS_NAME,'it-search-input')\n",
    "\n",
    "def getClosestColor(r,g,b):\n",
    "  search_box.clear()\n",
    "  search_box.send_keys(f'rgb({r},{g},{b})')\n",
    "  search_box.send_keys(Keys.RETURN)\n",
    "  time.sleep(0.5)\n",
    "  col_name = driver.find_element(By.ID,'nac_arty_col_name').text\n",
    "  col_hex = driver.find_element(By.ID,'nac_my_color').text.lstrip('#')\n",
    "  col_RGB = tuple(int(col_hex[i:i+2],16)for i in (0, 2, 4))\n",
    "  return {'name' : col_name, 'RGB' : col_RGB}"
   ]
  },
  {
   "cell_type": "markdown",
   "metadata": {},
   "source": [
    "Like [GetProducts.ipynb](GetProducts.ipynb), get information by using **Selenium**\n",
    " \n",
    "``` python\n",
    "  def getClosestColor(r, g, b)\n",
    "``` \n",
    "gets the closest color name and rgb by rgb values."
   ]
  },
  {
   "cell_type": "code",
   "execution_count": 6,
   "metadata": {},
   "outputs": [],
   "source": [
    "color = []\n",
    "sourcefile = '../data/original_RGB.csv'\n",
    "targetfile = '../data/main_colors.csv'\n",
    "with open(sourcefile,'r',encoding='utf-8') as f: \n",
    "  for items in csv.reader(f):\n",
    "    if items[0].startswith('#'): continue\n",
    "    color.append([int(x) for x in items])\n",
    "with open(targetfile, 'w', encoding='utf-8', newline='') as f:\n",
    "  writer = csv.writer(f)\n",
    "  writer.writerow(('#Name','RGB'))\n",
    "  for rgb in color:\n",
    "    closest_color = getClosestColor(*rgb)\n",
    "    writer.writerow((closest_color['name'],closest_color['RGB']))"
   ]
  },
  {
   "cell_type": "markdown",
   "metadata": {},
   "source": [
    "Now we got the name of the closest color and rgb and saved as a csv file. \n",
    "<img src =\"../img/main_colors.png\" width =\"400\">\n",
    "\n",
    "[Back to <b>ColorClustering</b>](../color/ColorClustering.ipynb)"
   ]
  }
 ],
 "metadata": {
  "kernelspec": {
   "display_name": "Python 3.10.7 ('venv': venv)",
   "language": "python",
   "name": "python3"
  },
  "language_info": {
   "codemirror_mode": {
    "name": "ipython",
    "version": 3
   },
   "file_extension": ".py",
   "mimetype": "text/x-python",
   "name": "python",
   "nbconvert_exporter": "python",
   "pygments_lexer": "ipython3",
   "version": "3.10.7"
  },
  "orig_nbformat": 4,
  "vscode": {
   "interpreter": {
    "hash": "2318e5b608ecf5bd821c8af02f6b1d2a72cbef9a25c6a650ca096a07e214dbe8"
   }
  }
 },
 "nbformat": 4,
 "nbformat_minor": 2
}
