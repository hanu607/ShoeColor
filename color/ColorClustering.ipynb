{
 "cells": [
  {
   "cell_type": "markdown",
   "metadata": {},
   "source": [
    "# Get Sample Colors\n",
    "> Get sample colors by using [K-Means Clustering](https://en.wikipedia.org/wiki/K-means_clustering)\n",
    "\n",
    "[Back to <b>contents</b>](../README.md)\n",
    "\n",
    "First, represent the main colors of shoe in shoes.csv in 3D. <br>\n",
    "Numpy, Matplotlib and csv libraries are needed"
   ]
  },
  {
   "cell_type": "code",
   "execution_count": null,
   "metadata": {},
   "outputs": [],
   "source": [
    "# reference : https://engineer-mole.tistory.com/250\n",
    "import numpy as np\n",
    "import matplotlib.pyplot as plt\n",
    "import csv\n",
    "def load_shoe_data(filename):\n",
    "  class ShoeData:\n",
    "    data = []\n",
    "    target = []\n",
    "    feature_names = ['Name','Brand','Colors','Link','wish','review']\n",
    "  shoes = ShoeData()\n",
    "  with open(filename,'r', encoding ='utf-8') as f:\n",
    "    for items in csv.reader(f):\n",
    "      if items[0].startswith('#'): continue\n",
    "      shoes.target.append(eval(items[2]))\n",
    "      shoes.data.append(items)\n",
    "    shoes.data = np.array(shoes.data)\n",
    "    return shoes\n",
    "\n",
    "shoes = load_shoe_data('data/shoes.csv')\n",
    "fig = plt.figure(figsize = (8, 8))\n",
    "ax = fig.add_subplot(111, projection='3d')\n",
    "ax.set_title(\"Main Colors of Shoes (view_init(30, 330))\", size = 20)\n",
    "ax.set_xlabel(\"R\", size = 14)\n",
    "ax.set_ylabel(\"G\", size = 14)\n",
    "ax.set_zlabel(\"B\", size = 14)\n",
    "for colors in shoes.target:\n",
    "  RGBP = colors[0]\n",
    "  RGB = np.array(RGBP[:-1])/255.0\n",
    "  ax.scatter(RGB[0], RGB[1], RGB[2], color = RGB)\n",
    "ax.view_init(30, 330)\n",
    "plt.show()"
   ]
  },
  {
   "cell_type": "markdown",
   "metadata": {},
   "source": [
    "Each view_init show plot by different angles.\n",
    "\n",
    "<img src = \"../img/MCS.png\" width = 800vw>\n",
    "\n",
    "### Data analysis\n",
    "<div style =\"backgroud-color : \">\n",
    "1. As expected, the main colors of shoe are mostly achromatic.\n",
    "2. <span style =\"background-color : Black; color : white;\">Black</span> and <span style =\"background-color : White; color : Black;\">white</span> are usually abundant, and the rest of the colors are evenly distributed.\n",
    "</div>"
   ]
  },
  {
   "cell_type": "markdown",
   "metadata": {},
   "source": [
    "\n",
    "## Goal\n",
    "> I want to compress <b>color information</b> into <b>less number of colors</b>.\n",
    "1. The above plots include only the main colors of shoe (1000 colors), so <span style = \"color : red;\">all colors of shoes are not used.</span>\n",
    "2. A small number of colors should <mark>effeciently</mark> represent the color of the shoes.\n"
   ]
  }
 ],
 "metadata": {
  "kernelspec": {
   "display_name": "Python 3.10.7 ('venv': venv)",
   "language": "python",
   "name": "python3"
  },
  "language_info": {
   "name": "python",
   "version": "3.10.7"
  },
  "orig_nbformat": 4,
  "vscode": {
   "interpreter": {
    "hash": "2318e5b608ecf5bd821c8af02f6b1d2a72cbef9a25c6a650ca096a07e214dbe8"
   }
  }
 },
 "nbformat": 4,
 "nbformat_minor": 2
}
